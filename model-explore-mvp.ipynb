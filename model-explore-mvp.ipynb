{
 "cells": [
  {
   "cell_type": "markdown",
   "metadata": {},
   "source": [
    "# Model Exploration Dash Prototype "
   ]
  },
  {
   "cell_type": "code",
   "execution_count": 6,
   "metadata": {},
   "outputs": [
    {
     "name": "stderr",
     "output_type": "stream",
     "text": [
      "/Users/mgeiger/.pyenv/versions/3.8.2/envs/dash-playtest/lib/python3.8/site-packages/sklearn/utils/deprecation.py:143: FutureWarning: The sklearn.manifold.t_sne module is  deprecated in version 0.22 and will be removed in version 0.24. The corresponding classes / functions should instead be imported from sklearn.manifold. Anything that cannot be imported from sklearn.manifold is now part of the private API.\n",
      "  warnings.warn(message, FutureWarning)\n"
     ]
    }
   ],
   "source": [
    "## Imports\n",
    "#\n",
    "\n",
    "import plotly.express as px\n",
    "import plotly.graph_objects as go\n",
    "from jupyter_dash import JupyterDash\n",
    "from dash import callback_context\n",
    "import dash_core_components as dcc\n",
    "import dash_html_components as html\n",
    "from dash.dependencies import Input, Output, State\n",
    "import pandas as pd\n",
    "import os, ntpath\n",
    "import numpy as np\n",
    "from functools import reduce\n",
    "import numpy as np\n",
    "import gillespy2\n",
    "from gillespy2 import Model, Species, Reaction, Parameter, RateRule, AssignmentRule, FunctionDefinition\n",
    "from gillespy2 import EventAssignment, EventTrigger, Event\n",
    "from sciope.stochmet.stochmet import StochMET\n"
   ]
  },
  {
   "cell_type": "code",
   "execution_count": 2,
   "metadata": {},
   "outputs": [],
   "source": [
    "## GillesPy2 Model\n",
    "#\n",
    "\n",
    "class Dimerization(Model):\n",
    "    def __init__(self, parameter_values=None):\n",
    "        Model.__init__(self, name=\"Dimerization\")\n",
    "        self.volume = 1\n",
    "\n",
    "        # Parameters\n",
    "        self.add_parameter(Parameter(name=\"k_c\", expression=0.005))\n",
    "        self.add_parameter(Parameter(name=\"k_d\", expression=0.08))\n",
    "\n",
    "        # Species\n",
    "        self.add_species(Species(name=\"Monomer\", initial_value=30, mode=\"discrete\"))\n",
    "        self.add_species(Species(name=\"Dimer\", initial_value=0, mode=\"discrete\"))\n",
    "\n",
    "        # Reactions\n",
    "        self.add_reaction(Reaction(name=\"r_creation\", reactants={'Monomer': 2}, products={'Dimer': 1}, rate=self.listOfParameters[\"k_c\"]))\n",
    "        self.add_reaction(Reaction(name=\"r_dissociation\", reactants={'Dimer': 1}, products={'Monomer': 2}, rate=self.listOfParameters[\"k_d\"]))\n",
    "\n",
    "        # Timespan\n",
    "        self.timespan(np.linspace(0, 100, 101))\n",
    "        \n",
    "model = Dimerization()"
   ]
  },
  {
   "cell_type": "code",
   "execution_count": 3,
   "metadata": {},
   "outputs": [],
   "source": [
    "from sciope.utilities.gillespy2 import wrapper\n",
    "settings = {\"number_of_trajectories\":1}\n",
    "simulator = wrapper.get_simulator(gillespy_model=model, run_settings=settings, species_of_interest=['Monomer', 'Dimer'])\n",
    "expression_array = wrapper.get_parameter_expression_array(model)"
   ]
  },
  {
   "cell_type": "code",
   "execution_count": 4,
   "metadata": {},
   "outputs": [],
   "source": [
    "from dask.distributed import Client\n",
    "#from sciope.designs import latin_hypercube_sampling\n",
    "#from sciope.utilities.summarystats.auto_tsfresh import SummariesTSFRESH\n",
    "import sciope.utilities as util\n",
    "import sciope.designs as designs\n",
    "from sciope.utilities.priors.uniform_prior import UniformPrior\n",
    "\n",
    "sampler = UniformPrior(expression_array*0.8, expression_array*1.5)"
   ]
  },
  {
   "cell_type": "code",
   "execution_count": 8,
   "metadata": {},
   "outputs": [
    {
     "name": "stderr",
     "output_type": "stream",
     "text": [
      "/Users/mgeiger/.pyenv/versions/3.8.2/envs/dash-playtest/lib/python3.8/site-packages/distributed/node.py:151: UserWarning: Port 8787 is already in use.\n",
      "Perhaps you already have a cluster running?\n",
      "Hosting the HTTP server on port 54762 instead\n",
      "  warnings.warn(\n"
     ]
    }
   ],
   "source": [
    "c = Client()"
   ]
  },
  {
   "cell_type": "code",
   "execution_count": null,
   "metadata": {},
   "outputs": [],
   "source": []
  },
  {
   "cell_type": "code",
   "execution_count": 14,
   "metadata": {},
   "outputs": [],
   "source": [
    "from sciope.utilities.summarystats.summary_base import SummaryBase\n",
    "\n",
    "summaries = SummaryBase('summaries')\n",
    "summaries.compute = lambda x: x\n",
    "\n",
    "met = StochMET(simulator, sampler, summaries)"
   ]
  },
  {
   "cell_type": "code",
   "execution_count": 15,
   "metadata": {},
   "outputs": [],
   "source": [
    "met.compute(n_points=20)"
   ]
  },
  {
   "cell_type": "code",
   "execution_count": null,
   "metadata": {},
   "outputs": [],
   "source": []
  },
  {
   "cell_type": "code",
   "execution_count": null,
   "metadata": {},
   "outputs": [],
   "source": []
  },
  {
   "cell_type": "code",
   "execution_count": 44,
   "metadata": {},
   "outputs": [],
   "source": [
    "#First lets add some appropiate information about the model and features\n",
    "met.data.configurations['parameter_labels'] = list(model.listOfParameters.keys())\n",
    "met.data.configurations['species_labels'] = list(model.listOfSpecies.keys())\n",
    "met.data.configurations['timepoints'] = model.tspan"
   ]
  },
  {
   "cell_type": "code",
   "execution_count": 81,
   "metadata": {},
   "outputs": [
    {
     "data": {
      "text/plain": [
       "<sciope.stochmet.stochmet.DataSetMET at 0x132a0a0d0>"
      ]
     },
     "execution_count": 81,
     "metadata": {},
     "output_type": "execute_result"
    }
   ],
   "source": [
    "data = met.data\n",
    "data"
   ]
  },
  {
   "cell_type": "code",
   "execution_count": 123,
   "metadata": {},
   "outputs": [],
   "source": [
    "import json"
   ]
  },
  {
   "cell_type": "code",
   "execution_count": null,
   "metadata": {},
   "outputs": [],
   "source": [
    "#### Start of Dash Setup\n",
    "##"
   ]
  },
  {
   "cell_type": "code",
   "execution_count": 82,
   "metadata": {},
   "outputs": [],
   "source": [
    "## Defaults\n",
    "#\n",
    "\n",
    "default_num_groups = 5\n",
    "default_trajectory_selector = 'slider' # either 'dropdown' or 'slider'"
   ]
  },
  {
   "cell_type": "code",
   "execution_count": 83,
   "metadata": {},
   "outputs": [],
   "source": [
    "## Helpers\n",
    "#\n",
    "\n",
    "def options_factory(iterable, label_accessor=lambda x: x, value_accessor=lambda x: x):\n",
    "    \"\"\"\n",
    "    Factory function for creating a dash dropdown menu's 'options' attribute.\n",
    "\n",
    "    Positional arguments:\n",
    "    iterable -- any iterable data structure.\n",
    "\n",
    "    Keyword arguments (optional):\n",
    "    label_accessor -- function to retrieve the label from a single data point in iterable.\n",
    "    value_accessor -- function to retrieve the value from a single data point in iterable.\n",
    "\n",
    "    Returns a list of dictionaries with keys 'label' and 'value'.\n",
    "    \"\"\"\n",
    "    return [\n",
    "        { 'label': label_accessor(d), 'value': value_accessor(d) }\n",
    "        for d in iterable\n",
    "    ]\n",
    "\n",
    "def get_zeroed_df(df):\n",
    "    zero_df = df - df\n",
    "    zero_df['time'] = df['time'].copy()\n",
    "    return zero_df\n",
    "\n",
    "\n",
    "def default_local_store(dfs, num_groups):\n",
    "    \"\"\"\n",
    "    Initial client-side JSON storage for callbacks to refernece.\n",
    "    \"\"\"\n",
    "    return {\n",
    "        'dfs': [ df.to_json(orient='split') for df in dfs ],\n",
    "        'group_assigns' : [None] * len(dfs),\n",
    "        'group_data' : [get_zeroed_df(dfs[0]).to_json(orient='split')] * default_num_groups\n",
    "    }"
   ]
  },
  {
   "cell_type": "code",
   "execution_count": 84,
   "metadata": {},
   "outputs": [],
   "source": [
    "## Read the data\n",
    "#\n",
    "\n",
    "#results_dir = './results_csv_06042020_150109/'\n",
    "#dfs = read_ensemble_data_from_results_folder(results_dir)"
   ]
  },
  {
   "cell_type": "code",
   "execution_count": 87,
   "metadata": {},
   "outputs": [
    {
     "data": {
      "text/plain": [
       "\"\\n# Extra styling for dropdowns\\ndropdown_styles = {\\n}\\n\\n# Setup species dropdown options\\nall_species = [ c for c in dfs[0].columns if c != 'time' ]\\nspecies_options = options_factory(all_species)\\nspecies_options.insert(0, options_factory(['All'])[0])\\n\\n# Group dropdown options\\ngroup_options = options_factory(\\n    # 0-indexed internally, labeled as 1-indexed\\n    range(default_num_groups), label_accessor=lambda x: str(x+1)\\n)\\n\\n# Trajectory dropdown options\\ntrajectory_options = options_factory(\\n    # 0-indexed internally, labeled as 1-indexed\\n    range(len(dfs)), label_accessor=lambda x: str(x+1)\\n)\\n\""
      ]
     },
     "execution_count": 87,
     "metadata": {},
     "output_type": "execute_result"
    }
   ],
   "source": [
    "## Setup menus and styling for dropdowns\n",
    "#\n",
    "'''\n",
    "# Extra styling for dropdowns\n",
    "dropdown_styles = {\n",
    "}\n",
    "\n",
    "# Setup species dropdown options\n",
    "all_species = [ c for c in dfs[0].columns if c != 'time' ]\n",
    "species_options = options_factory(all_species)\n",
    "species_options.insert(0, options_factory(['All'])[0])\n",
    "\n",
    "# Group dropdown options\n",
    "group_options = options_factory(\n",
    "    # 0-indexed internally, labeled as 1-indexed\n",
    "    range(default_num_groups), label_accessor=lambda x: str(x+1)\n",
    ")\n",
    "\n",
    "# Trajectory dropdown options\n",
    "trajectory_options = options_factory(\n",
    "    # 0-indexed internally, labeled as 1-indexed\n",
    "    range(len(dfs)), label_accessor=lambda x: str(x+1)\n",
    ")\n",
    "'''"
   ]
  },
  {
   "cell_type": "code",
   "execution_count": 151,
   "metadata": {},
   "outputs": [],
   "source": [
    "## App\n",
    "#\n",
    "\n",
    "external_stylesheets = [\n",
    "    {\n",
    "        'href': 'https://stackpath.bootstrapcdn.com/bootstrap/4.1.3/css/bootstrap.min.css',\n",
    "        'rel': 'stylesheet',\n",
    "        'integrity': 'sha384-MCw98/SFnGE8fJT3GXwEOngsV7Zt27NXFoaoApmYm81iuXoPkFOJwJ8ERdknLPMO',\n",
    "        'crossorigin': 'anonymous'\n",
    "    }\n",
    "]\n",
    "\n",
    "app = JupyterDash(__name__, external_stylesheets=external_stylesheets)"
   ]
  },
  {
   "cell_type": "code",
   "execution_count": 152,
   "metadata": {},
   "outputs": [],
   "source": [
    "## Fragments\n",
    "#\n",
    "\n",
    "# Initial client JSON store\n",
    "#store = default_local_store(dfs, default_num_groups)"
   ]
  },
  {
   "cell_type": "code",
   "execution_count": 153,
   "metadata": {},
   "outputs": [],
   "source": [
    "## Components\n",
    "#"
   ]
  },
  {
   "cell_type": "code",
   "execution_count": 154,
   "metadata": {},
   "outputs": [
    {
     "data": {
      "text/plain": [
       "<sciope.stochmet.stochmet.DataSetMET at 0x132a0a0d0>"
      ]
     },
     "execution_count": 154,
     "metadata": {},
     "output_type": "execute_result"
    }
   ],
   "source": [
    "data"
   ]
  },
  {
   "cell_type": "code",
   "execution_count": 155,
   "metadata": {},
   "outputs": [],
   "source": [
    "## Model Exploration Layout\n",
    "\n",
    "fig = px.scatter(x=data.x[:,0], y=data.x[:,1])\n",
    "\n",
    "model_exploration_layout = html.Div([\n",
    "    html.Div([ dcc.Graph(id='parameter-space-graph', figure=fig) ],\n",
    "             id='parameter-space-graph-wrapper',\n",
    "             className='col-md-12',\n",
    "    ),\n",
    "    html.Div([ dcc.Graph(id='output') ])\n",
    "], className='card card-body')\n"
   ]
  },
  {
   "cell_type": "code",
   "execution_count": 182,
   "metadata": {},
   "outputs": [],
   "source": [
    "def default_local_store(data):\n",
    "    \"\"\"\n",
    "    Initial client-side JSON storage for callbacks to refernece.\n",
    "    \"\"\"\n",
    "    return {\n",
    "        'params': data.x.tolist(),\n",
    "        'timepoints': data.configurations['timepoints'].tolist(),\n",
    "        'timeseries' : data.ts.tolist(),\n",
    "    }"
   ]
  },
  {
   "cell_type": "code",
   "execution_count": 183,
   "metadata": {},
   "outputs": [
    {
     "ename": "TypeError",
     "evalue": "list indices must be integers or slices, not tuple",
     "output_type": "error",
     "traceback": [
      "\u001b[0;31m---------------------------------------------------------------------------\u001b[0m",
      "\u001b[0;31mTypeError\u001b[0m                                 Traceback (most recent call last)",
      "\u001b[0;32m<ipython-input-183-0bcb29ec8c4c>\u001b[0m in \u001b[0;36m<module>\u001b[0;34m\u001b[0m\n\u001b[0;32m----> 1\u001b[0;31m \u001b[0mdata\u001b[0m\u001b[0;34m.\u001b[0m\u001b[0mts\u001b[0m\u001b[0;34m.\u001b[0m\u001b[0mtolist\u001b[0m\u001b[0;34m(\u001b[0m\u001b[0;34m)\u001b[0m\u001b[0;34m[\u001b[0m\u001b[0;34m:\u001b[0m\u001b[0;34m,\u001b[0m\u001b[0;36m0\u001b[0m\u001b[0;34m]\u001b[0m\u001b[0;34m\u001b[0m\u001b[0;34m\u001b[0m\u001b[0m\n\u001b[0m",
      "\u001b[0;31mTypeError\u001b[0m: list indices must be integers or slices, not tuple"
     ]
    }
   ],
   "source": [
    "data.ts.tolist()[:,0]"
   ]
  },
  {
   "cell_type": "code",
   "execution_count": 168,
   "metadata": {},
   "outputs": [],
   "source": [
    "'''\n",
    "{\n",
    "  \"points\": [\n",
    "    {\n",
    "      \"curveNumber\": 0,\n",
    "      \"pointNumber\": 6,\n",
    "      \"pointIndex\": 6,\n",
    "      \"x\": 0.0048327475341438005,\n",
    "      \"y\": 0.0703783913529779\n",
    "    }\n",
    "  ]\n",
    "}\n",
    "'''\n",
    "@app.callback(\n",
    "    Output('output', 'figure'),\n",
    "    [Input('parameter-space-graph', 'clickData')],\n",
    "    [State('memory', 'data')])\n",
    "def display_time_series(clickData, data):\n",
    "    try:\n",
    "        p = clickData['points'][0]\n",
    "        x, y = p['x'], p['y']\n",
    "        params = data['params']\n",
    "        index = [ d for d in params if d[0] == x ][0]\n",
    "        ts_all = data['timeseries'][index]\n",
    "        ts_0 = ts_all[:,0]\n",
    "        return px.scatter(x=data.configurations['timepoints'], y=ts_0)\n",
    "    except:\n",
    "        return px.scatter(x=data.configurations['timepoints'])"
   ]
  },
  {
   "cell_type": "code",
   "execution_count": null,
   "metadata": {},
   "outputs": [],
   "source": []
  },
  {
   "cell_type": "code",
   "execution_count": null,
   "metadata": {},
   "outputs": [],
   "source": []
  },
  {
   "cell_type": "code",
   "execution_count": 169,
   "metadata": {},
   "outputs": [],
   "source": [
    "## App Layout\n",
    "#\n",
    "\n",
    "app.layout = html.Div([ model_exploration_layout\n",
    "    #dcc.Store(id='memory', data=store),\n",
    "    #group_assigner_layout,\n",
    "    #group_inspector_layout\n",
    "],\n",
    "style={\n",
    "    'font-family': 'Arial, Helvetica, sans-serif'\n",
    "})"
   ]
  },
  {
   "cell_type": "code",
   "execution_count": 170,
   "metadata": {},
   "outputs": [
    {
     "data": {
      "text/html": [
       "\n",
       "        <iframe\n",
       "            width=\"100%\"\n",
       "            height=\"650\"\n",
       "            src=\"http://127.0.0.1:8050/\"\n",
       "            frameborder=\"0\"\n",
       "            allowfullscreen\n",
       "        ></iframe>\n",
       "        "
      ],
      "text/plain": [
       "<IPython.lib.display.IFrame at 0x137ad96a0>"
      ]
     },
     "metadata": {},
     "output_type": "display_data"
    }
   ],
   "source": [
    "## Run\n",
    "#\n",
    "\n",
    "app.run_server(mode='inline', debug=True)"
   ]
  },
  {
   "cell_type": "code",
   "execution_count": null,
   "metadata": {},
   "outputs": [],
   "source": []
  },
  {
   "cell_type": "code",
   "execution_count": null,
   "metadata": {},
   "outputs": [],
   "source": []
  }
 ],
 "metadata": {
  "kernelspec": {
   "display_name": "Python 3",
   "language": "python",
   "name": "python3"
  },
  "language_info": {
   "codemirror_mode": {
    "name": "ipython",
    "version": 3
   },
   "file_extension": ".py",
   "mimetype": "text/x-python",
   "name": "python",
   "nbconvert_exporter": "python",
   "pygments_lexer": "ipython3",
   "version": "3.8.2"
  }
 },
 "nbformat": 4,
 "nbformat_minor": 4
}
