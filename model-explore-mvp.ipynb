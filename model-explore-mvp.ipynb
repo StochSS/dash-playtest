{
 "cells": [
  {
   "cell_type": "markdown",
   "metadata": {},
   "source": [
    "# Model Exploration Dash Prototype "
   ]
  },
  {
   "cell_type": "code",
   "execution_count": 1,
   "metadata": {},
   "outputs": [
    {
     "name": "stderr",
     "output_type": "stream",
     "text": [
      "/home/smatthe2/.local/lib/python3.6/site-packages/sklearn/utils/deprecation.py:144: FutureWarning:\n",
      "\n",
      "The sklearn.manifold.t_sne module is  deprecated in version 0.22 and will be removed in version 0.24. The corresponding classes / functions should instead be imported from sklearn.manifold. Anything that cannot be imported from sklearn.manifold is now part of the private API.\n",
      "\n"
     ]
    }
   ],
   "source": [
    "## Imports\n",
    "#\n",
    "\n",
    "import sys\n",
    "sys.path.append('../GillesPy2')\n",
    "import plotly.express as px\n",
    "import plotly.graph_objects as go\n",
    "from jupyter_dash import JupyterDash\n",
    "from dash import callback_context\n",
    "import dash_core_components as dcc\n",
    "import dash_html_components as html\n",
    "from dash.dependencies import Input, Output, State\n",
    "import pandas as pd\n",
    "import os, ntpath\n",
    "import numpy as np\n",
    "from functools import reduce\n",
    "import numpy as np\n",
    "import gillespy2\n",
    "from gillespy2 import Model, Species, Reaction, Parameter, RateRule, AssignmentRule, FunctionDefinition\n",
    "from gillespy2 import EventAssignment, EventTrigger, Event\n",
    "from sciope.stochmet.stochmet import StochMET\n"
   ]
  },
  {
   "cell_type": "code",
   "execution_count": 2,
   "metadata": {},
   "outputs": [],
   "source": [
    "## GillesPy2 Model\n",
    "#\n",
    "\n",
    "class Dimerization(Model):\n",
    "    def __init__(self, parameter_values=None):\n",
    "        Model.__init__(self, name=\"Dimerization\")\n",
    "        self.volume = 1\n",
    "\n",
    "        # Parameters\n",
    "        self.add_parameter(Parameter(name=\"k_c\", expression=0.005))\n",
    "        self.add_parameter(Parameter(name=\"k_d\", expression=0.08))\n",
    "\n",
    "        # Species\n",
    "        self.add_species(Species(name=\"Monomer\", initial_value=30, mode=\"discrete\"))\n",
    "        self.add_species(Species(name=\"Dimer\", initial_value=0, mode=\"discrete\"))\n",
    "\n",
    "        # Reactions\n",
    "        self.add_reaction(Reaction(name=\"r_creation\", reactants={'Monomer': 2}, products={'Dimer': 1}, rate=self.listOfParameters[\"k_c\"]))\n",
    "        self.add_reaction(Reaction(name=\"r_dissociation\", reactants={'Dimer': 1}, products={'Monomer': 2}, rate=self.listOfParameters[\"k_d\"]))\n",
    "\n",
    "        # Timespan\n",
    "        self.timespan(np.linspace(0, 100, 101))\n",
    "        \n",
    "model = Dimerization()"
   ]
  },
  {
   "cell_type": "code",
   "execution_count": 3,
   "metadata": {},
   "outputs": [],
   "source": [
    "from sciope.utilities.gillespy2 import wrapper\n",
    "settings = {\"number_of_trajectories\":1}\n",
    "simulator = wrapper.get_simulator(gillespy_model=model, run_settings=settings, species_of_interest=['Monomer', 'Dimer'])\n",
    "expression_array = wrapper.get_parameter_expression_array(model)"
   ]
  },
  {
   "cell_type": "code",
   "execution_count": 4,
   "metadata": {},
   "outputs": [],
   "source": [
    "from dask.distributed import Client\n",
    "#from sciope.designs import latin_hypercube_sampling\n",
    "#from sciope.utilities.summarystats.auto_tsfresh import SummariesTSFRESH\n",
    "import sciope.utilities as util\n",
    "import sciope.designs as designs\n",
    "from sciope.utilities.priors.uniform_prior import UniformPrior\n",
    "\n",
    "sampler = UniformPrior(expression_array*0.8, expression_array*1.5)"
   ]
  },
  {
   "cell_type": "code",
   "execution_count": 5,
   "metadata": {},
   "outputs": [],
   "source": [
    "c = Client()"
   ]
  },
  {
   "cell_type": "code",
   "execution_count": null,
   "metadata": {},
   "outputs": [],
   "source": []
  },
  {
   "cell_type": "code",
   "execution_count": 6,
   "metadata": {},
   "outputs": [],
   "source": [
    "from sciope.utilities.summarystats.summary_base import SummaryBase\n",
    "\n",
    "summaries = SummaryBase('summaries')\n",
    "summaries.compute = lambda x: x\n",
    "\n",
    "met = StochMET(simulator, sampler, summaries)"
   ]
  },
  {
   "cell_type": "code",
   "execution_count": 7,
   "metadata": {},
   "outputs": [],
   "source": [
    "met.compute(n_points=20)"
   ]
  },
  {
   "cell_type": "code",
   "execution_count": null,
   "metadata": {},
   "outputs": [],
   "source": []
  },
  {
   "cell_type": "code",
   "execution_count": 8,
   "metadata": {},
   "outputs": [],
   "source": [
    "#First lets add some appropiate information about the model and features\n",
    "met.data.configurations['parameter_labels'] = list(model.listOfParameters.keys())\n",
    "met.data.configurations['species_labels'] = list(model.listOfSpecies.keys())\n",
    "met.data.configurations['timepoints'] = model.tspan"
   ]
  },
  {
   "cell_type": "code",
   "execution_count": 9,
   "metadata": {},
   "outputs": [
    {
     "data": {
      "text/plain": [
       "<sciope.stochmet.stochmet.DataSetMET at 0x7f4889173278>"
      ]
     },
     "execution_count": 9,
     "metadata": {},
     "output_type": "execute_result"
    }
   ],
   "source": [
    "data = met.data\n",
    "data"
   ]
  },
  {
   "cell_type": "code",
   "execution_count": 10,
   "metadata": {},
   "outputs": [],
   "source": [
    "import json"
   ]
  },
  {
   "cell_type": "code",
   "execution_count": 11,
   "metadata": {},
   "outputs": [],
   "source": [
    "#### Start of Dash Setup\n",
    "##"
   ]
  },
  {
   "cell_type": "code",
   "execution_count": 12,
   "metadata": {},
   "outputs": [],
   "source": [
    "## Defaults\n",
    "#\n",
    "\n",
    "default_num_groups = 5\n",
    "default_trajectory_selector = 'slider' # either 'dropdown' or 'slider'"
   ]
  },
  {
   "cell_type": "code",
   "execution_count": 13,
   "metadata": {},
   "outputs": [],
   "source": [
    "## Helpers\n",
    "#\n",
    "\n",
    "def options_factory(iterable, label_accessor=lambda x: x, value_accessor=lambda x: x):\n",
    "    \"\"\"\n",
    "    Factory function for creating a dash dropdown menu's 'options' attribute.\n",
    "\n",
    "    Positional arguments:\n",
    "    iterable -- any iterable data structure.\n",
    "\n",
    "    Keyword arguments (optional):\n",
    "    label_accessor -- function to retrieve the label from a single data point in iterable.\n",
    "    value_accessor -- function to retrieve the value from a single data point in iterable.\n",
    "\n",
    "    Returns a list of dictionaries with keys 'label' and 'value'.\n",
    "    \"\"\"\n",
    "    return [\n",
    "        { 'label': label_accessor(d), 'value': value_accessor(d) }\n",
    "        for d in iterable\n",
    "    ]\n",
    "\n",
    "def get_zeroed_df(df):\n",
    "    zero_df = df - df\n",
    "    zero_df['time'] = df['time'].copy()\n",
    "    return zero_df\n",
    "\n",
    "\n",
    "def default_local_store(dfs, num_groups):\n",
    "    \"\"\"\n",
    "    Initial client-side JSON storage for callbacks to refernece.\n",
    "    \"\"\"\n",
    "    return {\n",
    "        'dfs': [ df.to_json(orient='split') for df in dfs ],\n",
    "        'group_assigns' : [None] * len(dfs),\n",
    "        'group_data' : [get_zeroed_df(dfs[0]).to_json(orient='split')] * default_num_groups\n",
    "    }"
   ]
  },
  {
   "cell_type": "code",
   "execution_count": 187,
   "metadata": {},
   "outputs": [],
   "source": [
    "## App\n",
    "#\n",
    "\n",
    "external_stylesheets = [\n",
    "    {\n",
    "        'href': 'https://stackpath.bootstrapcdn.com/bootstrap/4.1.3/css/bootstrap.min.css',\n",
    "        'rel': 'stylesheet',\n",
    "        'integrity': 'sha384-MCw98/SFnGE8fJT3GXwEOngsV7Zt27NXFoaoApmYm81iuXoPkFOJwJ8ERdknLPMO',\n",
    "        'crossorigin': 'anonymous'\n",
    "    }\n",
    "]\n",
    "\n",
    "app = JupyterDash(__name__, external_stylesheets=external_stylesheets)"
   ]
  },
  {
   "cell_type": "code",
   "execution_count": 188,
   "metadata": {},
   "outputs": [],
   "source": [
    "# Create DataFrames\n",
    "\n",
    "n_samp = len(data.x)\n",
    "species = data.configurations['species_labels']\n",
    "parameters = data.configurations['parameter_labels']\n",
    "timepoints = data.configurations['timepoints']\n",
    "\n",
    "inputs = {}\n",
    "for i, p in enumerate(parameters):\n",
    "    inputs[p] = data.x[:, i]\n",
    "outputs = {'time':[]}\n",
    "for i, tp in enumerate(timepoints):\n",
    "    outputs['time'].append(tp)\n",
    "for i in range(n_samp):\n",
    "    for j, s in enumerate(species):\n",
    "        lbl = '{}_{}'.format(s, i)\n",
    "        outputs[lbl] = data.ts[i, 0, j, :]\n",
    "input_df = pd.DataFrame(inputs)\n",
    "output_df = pd.DataFrame(outputs)"
   ]
  },
  {
   "cell_type": "code",
   "execution_count": 189,
   "metadata": {},
   "outputs": [],
   "source": [
    "# Create Div\n",
    "fig1 = px.scatter(input_df, x=parameters[0], y=parameters[1])\n",
    "df_melt = output_df.melt(id_vars='time', value_vars=['{}_{}'.format(species[0], 0), '{}_{}'.format(species[1], 0)])\n",
    "fig2 = px.line(df_melt, x='time', y ='value', color='variable')\n",
    "\n",
    "app.layout = html.Div([\n",
    "    dcc.Graph(id='parameter-space-graph', figure=fig1, clickData=None, hoverData=None, className='six columns'),\n",
    "    dcc.Graph(id='time-series-graph', figure=fig2, className='six columns'),\n",
    "    \n",
    "# html.Div(className='row', children=[\n",
    "#         html.Div([\n",
    "#             dcc.Markdown(\"\"\"\n",
    "#                 **Selection Data**\n",
    "\n",
    "#                 Choose the lasso or rectangle tool in the graph's menu\n",
    "#                 bar and then select points in the graph.\n",
    "\n",
    "#                 Note that if `layout.clickmode = 'event+select'`, selection data also \n",
    "#                 accumulates (or un-accumulates) selected data if you hold down the shift\n",
    "#                 button while clicking.\n",
    "#             \"\"\"),\n",
    "#             html.Pre(id='selected-data'),\n",
    "#         ], className='three columns'),\n",
    "\n",
    "#         html.Div([\n",
    "#             dcc.Markdown(\"\"\"\n",
    "#                 **Zoom and Relayout Data**\n",
    "\n",
    "#                 Click and drag on the graph to zoom or click on the zoom\n",
    "#                 buttons in the graph's menu bar.\n",
    "#                 Clicking on legend items will also fire\n",
    "#                 this event.\n",
    "#             \"\"\"),\n",
    "#             html.Pre(id='relayout-data'),\n",
    "#         ], className='three columns')\n",
    "#     ])\n",
    "])\n",
    "\n",
    "\n"
   ]
  },
  {
   "cell_type": "code",
   "execution_count": 190,
   "metadata": {},
   "outputs": [],
   "source": [
    "# Create Callback for updateable output graph\n",
    "@app.callback(\n",
    "    Output(component_id='time-series-graph', component_property='figure'),\n",
    "    [Input(component_id='parameter-space-graph', component_property='clickData'),\n",
    "    Input(component_id='parameter-space-graph', component_property='selectedData')]\n",
    ")\n",
    "def update_time_series(clk_data, selectedData):\n",
    "    df_melt = output_df.melt(id_vars='time', value_vars=['{}_{}'.format(species[0], 0), '{}_{}'.format(species[1], 0)])\n",
    "    fig = px.line(df_melt, x='time', y ='value', color='variable')\n",
    "    if clk_data:\n",
    "        loc_1 = input_df.loc[input_df[parameters[0]] == clk_data['points'][0]['x']]\n",
    "        loc_2 = input_df.loc[input_df[parameters[1]] == clk_data['points'][0]['y']]\n",
    "        indx = input_df[parameters[0]][input_df[parameters[0]] == clk_data['points'][0]['x']].index.tolist()[0]\n",
    "        df_melt = output_df.melt(id_vars='time', value_vars=['{}_{}'.format(species[0], indx), '{}_{}'.format(species[1], indx)])\n",
    "        if loc_1.equals(loc_2):\n",
    "#             to_plot = ['{}_{}'.format(s, indx) for s in species]\n",
    "#             print(to_plot)\n",
    "            fig = px.line(df_melt, x='time', y='value', color='variable')\n",
    "    if selectedData:\n",
    "        df_melt = output_df.melt(id_vars='time', value_vars=['{}_{}'.format(species[0], 0), '{}_{}'.format(species[1], 0)])\n",
    "        fig = px.line(df_melt, x='time', y ='value', color='variable')\n",
    "        indices = []\n",
    "        for point in selectedData['points']:\n",
    "            loc_1 = input_df.loc[input_df[parameters[0]] == point['x']]\n",
    "            loc_2 = input_df.loc[input_df[parameters[0]] == point['y']]\n",
    "            indices.append(input_df[parameters[0]][input_df[parameters[0]] == point['x']].index.tolist()[0])\n",
    "        values = []\n",
    "        for i in indices:\n",
    "            values.append('{}_{}'.format(species[0], i))\n",
    "            values.append('{}_{}'.format(species[1], i))\n",
    "        print('indices: ', indices)\n",
    "        print('values: ', values)\n",
    "        df_melt = output_df.melt(id_vars='time', value_vars=values)\n",
    "        print('df: ', df_melt)\n",
    "        fig = px.line(df_melt, x='time', y='value', color='variable')\n",
    "#     else:\n",
    "#         df_melt = output_df.melt(id_vars='time', value_vars=['{}_{}'.format(species[0], 0), '{}_{}'.format(species[1], 0)])\n",
    "#         fig = px.line(df_melt, x='time', y ='value', color='variable')\n",
    "    return fig\n",
    "\n",
    "# @app.callback(\n",
    "#     Output('selected-data', 'children'),\n",
    "#     [Input('parameter-space-graph', 'selectedData')])\n",
    "# def display_selected_data(selectedData):\n",
    "#     return json.dumps(selectedData, indent=2)\n",
    "\n"
   ]
  },
  {
   "cell_type": "code",
   "execution_count": 192,
   "metadata": {},
   "outputs": [
    {
     "name": "stdout",
     "output_type": "stream",
     "text": [
      "Dash app running on http://127.0.0.1:8050/\n",
      "indices:  [6, 13, 14, 15, 17, 19]\n",
      "values:  ['Monomer_6', 'Dimer_6', 'Monomer_13', 'Dimer_13', 'Monomer_14', 'Dimer_14', 'Monomer_15', 'Dimer_15', 'Monomer_17', 'Dimer_17', 'Monomer_19', 'Dimer_19']\n",
      "df:         time   variable  value\n",
      "0       0.0  Monomer_6   30.0\n",
      "1       1.0  Monomer_6   22.0\n",
      "2       2.0  Monomer_6   24.0\n",
      "3       3.0  Monomer_6   16.0\n",
      "4       4.0  Monomer_6   18.0\n",
      "...     ...        ...    ...\n",
      "1207   96.0   Dimer_19   10.0\n",
      "1208   97.0   Dimer_19   10.0\n",
      "1209   98.0   Dimer_19   10.0\n",
      "1210   99.0   Dimer_19   10.0\n",
      "1211  100.0   Dimer_19   10.0\n",
      "\n",
      "[1212 rows x 3 columns]\n",
      "indices:  [2, 4, 5, 8, 9, 10, 11, 13, 15, 17, 18]\n",
      "values:  ['Monomer_2', 'Dimer_2', 'Monomer_4', 'Dimer_4', 'Monomer_5', 'Dimer_5', 'Monomer_8', 'Dimer_8', 'Monomer_9', 'Dimer_9', 'Monomer_10', 'Dimer_10', 'Monomer_11', 'Dimer_11', 'Monomer_13', 'Dimer_13', 'Monomer_15', 'Dimer_15', 'Monomer_17', 'Dimer_17', 'Monomer_18', 'Dimer_18']\n",
      "df:         time   variable  value\n",
      "0       0.0  Monomer_2   30.0\n",
      "1       1.0  Monomer_2   24.0\n",
      "2       2.0  Monomer_2   20.0\n",
      "3       3.0  Monomer_2   18.0\n",
      "4       4.0  Monomer_2   20.0\n",
      "...     ...        ...    ...\n",
      "2217   96.0   Dimer_18   12.0\n",
      "2218   97.0   Dimer_18   11.0\n",
      "2219   98.0   Dimer_18   12.0\n",
      "2220   99.0   Dimer_18   11.0\n",
      "2221  100.0   Dimer_18   11.0\n",
      "\n",
      "[2222 rows x 3 columns]\n"
     ]
    }
   ],
   "source": [
    "## Run\n",
    "#\n",
    "\n",
    "# app.run_server(mode='inline', debug=True)\n",
    "app.run_server(debug=True)"
   ]
  },
  {
   "cell_type": "code",
   "execution_count": 157,
   "metadata": {},
   "outputs": [
    {
     "data": {
      "text/plain": [
       "'\\n{\\n  \"points\": [\\n    {\\n      \"curveNumber\": 0,\\n      \"pointNumber\": 3,\\n      \"pointIndex\": 3,\\n      \"x\": 0.00607529841824995,\\n      \"y\": 0.08275661064558637\\n    }\\n  ]\\n}\\n'"
      ]
     },
     "execution_count": 157,
     "metadata": {},
     "output_type": "execute_result"
    }
   ],
   "source": [
    "'''\n",
    "{\n",
    "  \"points\": [\n",
    "    {\n",
    "      \"curveNumber\": 0,\n",
    "      \"pointNumber\": 3,\n",
    "      \"pointIndex\": 3,\n",
    "      \"x\": 0.00607529841824995,\n",
    "      \"y\": 0.08275661064558637\n",
    "    }\n",
    "  ]\n",
    "}\n",
    "'''"
   ]
  },
  {
   "cell_type": "code",
   "execution_count": null,
   "metadata": {},
   "outputs": [],
   "source": []
  }
 ],
 "metadata": {
  "kernelspec": {
   "display_name": "Python 3",
   "language": "python",
   "name": "python3"
  },
  "language_info": {
   "codemirror_mode": {
    "name": "ipython",
    "version": 3
   },
   "file_extension": ".py",
   "mimetype": "text/x-python",
   "name": "python",
   "nbconvert_exporter": "python",
   "pygments_lexer": "ipython3",
   "version": "3.6.9"
  }
 },
 "nbformat": 4,
 "nbformat_minor": 4
}
